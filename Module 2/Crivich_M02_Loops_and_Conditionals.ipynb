{
 "cells": [
  {
   "cell_type": "code",
   "execution_count": 2,
   "id": "de3d18d8",
   "metadata": {},
   "outputs": [
    {
     "name": "stdout",
     "output_type": "stream",
     "text": [
      "too high\n"
     ]
    }
   ],
   "source": [
    "secret = 4\n",
    "guess = 6\n",
    "\n",
    "if secret == guess:\n",
    "    print('secret')\n",
    "elif secret > guess:\n",
    "    print('too low')\n",
    "else:\n",
    "    print('too high')"
   ]
  },
  {
   "cell_type": "code",
   "execution_count": 5,
   "id": "c2a276c0",
   "metadata": {},
   "outputs": [
    {
     "name": "stdout",
     "output_type": "stream",
     "text": [
      "cherry\n"
     ]
    }
   ],
   "source": [
    "small = True\n",
    "green = False\n",
    "\n",
    "if small == True:\n",
    "    if green == True:\n",
    "        print('pea')\n",
    "    else:\n",
    "        print('cherry')\n",
    "else:\n",
    "    if green == True:\n",
    "        print('watermellon')\n",
    "    else:\n",
    "        print('pumpkin')"
   ]
  },
  {
   "cell_type": "code",
   "execution_count": 7,
   "id": "57555e67",
   "metadata": {},
   "outputs": [
    {
     "name": "stdout",
     "output_type": "stream",
     "text": [
      "3\n",
      "2\n",
      "1\n",
      "0\n"
     ]
    }
   ],
   "source": [
    "for x in range(3, -1, -1):\n",
    "    print(x)"
   ]
  },
  {
   "cell_type": "code",
   "execution_count": 9,
   "id": "12bc137c",
   "metadata": {},
   "outputs": [
    {
     "name": "stdout",
     "output_type": "stream",
     "text": [
      "too low\n",
      "too low\n",
      "too low\n",
      "too low\n",
      "too low\n",
      "too low\n",
      "found it!\n"
     ]
    }
   ],
   "source": [
    "guess_me = 7\n",
    "number = 1\n",
    "\n",
    "while (number <= guess_me):\n",
    "    if number < guess_me:\n",
    "        print('too low')\n",
    "        number += 1\n",
    "    else:\n",
    "        print('found it!')\n",
    "        break\n",
    "else:\n",
    "    print('oops')"
   ]
  },
  {
   "cell_type": "code",
   "execution_count": 10,
   "id": "39d54648",
   "metadata": {},
   "outputs": [
    {
     "name": "stdout",
     "output_type": "stream",
     "text": [
      "too low\n",
      "too low\n",
      "too low\n",
      "too low\n",
      "too low\n",
      "found it!\n"
     ]
    }
   ],
   "source": [
    "guess_me = 5\n",
    "\n",
    "for number in range(10):\n",
    "    if number < guess_me:\n",
    "        print('too low')\n",
    "    elif number > guess_me:\n",
    "        print('oops')\n",
    "        break\n",
    "    else:\n",
    "        print('found it!')\n",
    "        break"
   ]
  },
  {
   "cell_type": "code",
   "execution_count": null,
   "id": "ab4bcf74",
   "metadata": {},
   "outputs": [],
   "source": []
  }
 ],
 "metadata": {
  "kernelspec": {
   "display_name": "Python 3 (ipykernel)",
   "language": "python",
   "name": "python3"
  },
  "language_info": {
   "codemirror_mode": {
    "name": "ipython",
    "version": 3
   },
   "file_extension": ".py",
   "mimetype": "text/x-python",
   "name": "python",
   "nbconvert_exporter": "python",
   "pygments_lexer": "ipython3",
   "version": "3.9.13"
  }
 },
 "nbformat": 4,
 "nbformat_minor": 5
}
