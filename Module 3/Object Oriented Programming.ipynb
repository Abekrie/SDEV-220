{
 "cells": [
  {
   "cell_type": "code",
   "execution_count": 4,
   "id": "5bbb16d0",
   "metadata": {},
   "outputs": [],
   "source": [
    "class Line:\n",
    "    \n",
    "    def __init__(self,coor1,coor2):\n",
    "        \n",
    "        self.coor1 = coor1\n",
    "        self.coor2 = coor2\n",
    "    \n",
    "    def distance(self):\n",
    "        \n",
    "        x1,y1 = self.coor1\n",
    "        x2,y2 = self.coor2\n",
    "        \n",
    "        return ((x2-x1)**2 + (y2-y1)**2)**0.5\n",
    "    \n",
    "    def slope(self):\n",
    "        \n",
    "        x1,y1 = self.coor1\n",
    "        x2,y2 = self.coor2\n",
    "        \n",
    "        return (y2-y1) / (x2-x1)"
   ]
  },
  {
   "cell_type": "code",
   "execution_count": 5,
   "id": "2f3b406a",
   "metadata": {},
   "outputs": [],
   "source": [
    "c1 = (3,2)\n",
    "c2 = (8,10)"
   ]
  },
  {
   "cell_type": "code",
   "execution_count": 6,
   "id": "eb7ab95f",
   "metadata": {},
   "outputs": [],
   "source": [
    "myline = Line(c1,c2)"
   ]
  },
  {
   "cell_type": "code",
   "execution_count": 7,
   "id": "01dc8302",
   "metadata": {},
   "outputs": [
    {
     "data": {
      "text/plain": [
       "9.433981132056603"
      ]
     },
     "execution_count": 7,
     "metadata": {},
     "output_type": "execute_result"
    }
   ],
   "source": [
    "myline.distance()"
   ]
  },
  {
   "cell_type": "code",
   "execution_count": 8,
   "id": "a2f8f912",
   "metadata": {},
   "outputs": [
    {
     "data": {
      "text/plain": [
       "1.6"
      ]
     },
     "execution_count": 8,
     "metadata": {},
     "output_type": "execute_result"
    }
   ],
   "source": [
    "myline.slope()"
   ]
  },
  {
   "cell_type": "code",
   "execution_count": null,
   "id": "d0480484",
   "metadata": {},
   "outputs": [],
   "source": []
  },
  {
   "cell_type": "code",
   "execution_count": null,
   "id": "00c9fc5d",
   "metadata": {},
   "outputs": [],
   "source": []
  },
  {
   "cell_type": "code",
   "execution_count": null,
   "id": "bbd5c383",
   "metadata": {},
   "outputs": [],
   "source": []
  },
  {
   "cell_type": "code",
   "execution_count": 9,
   "id": "89779104",
   "metadata": {},
   "outputs": [],
   "source": [
    "class Cylinder:\n",
    "    \n",
    "    def __init__(self,height=1,radius=1):\n",
    "        \n",
    "        self.height = height\n",
    "        self.radius = radius\n",
    "        \n",
    "    def volume(self):\n",
    "        \n",
    "        return self.height * 3.14 * (self.radius)**2\n",
    "    \n",
    "    def surface_area(self):\n",
    "        \n",
    "        top = 3.14 * (self.radius**2)\n",
    "        \n",
    "        return (2*top) + (2*3.14*self.radius*self.height)"
   ]
  },
  {
   "cell_type": "code",
   "execution_count": 10,
   "id": "646eff06",
   "metadata": {},
   "outputs": [],
   "source": [
    "mycyl = Cylinder(2,3)"
   ]
  },
  {
   "cell_type": "code",
   "execution_count": 11,
   "id": "dadf208c",
   "metadata": {},
   "outputs": [
    {
     "data": {
      "text/plain": [
       "56.52"
      ]
     },
     "execution_count": 11,
     "metadata": {},
     "output_type": "execute_result"
    }
   ],
   "source": [
    "mycyl.volume()"
   ]
  },
  {
   "cell_type": "code",
   "execution_count": 12,
   "id": "86c1fbce",
   "metadata": {},
   "outputs": [
    {
     "data": {
      "text/plain": [
       "94.2"
      ]
     },
     "execution_count": 12,
     "metadata": {},
     "output_type": "execute_result"
    }
   ],
   "source": [
    "mycyl.surface_area()"
   ]
  },
  {
   "cell_type": "code",
   "execution_count": null,
   "id": "d8bf4e62",
   "metadata": {},
   "outputs": [],
   "source": []
  }
 ],
 "metadata": {
  "kernelspec": {
   "display_name": "Python 3 (ipykernel)",
   "language": "python",
   "name": "python3"
  },
  "language_info": {
   "codemirror_mode": {
    "name": "ipython",
    "version": 3
   },
   "file_extension": ".py",
   "mimetype": "text/x-python",
   "name": "python",
   "nbconvert_exporter": "python",
   "pygments_lexer": "ipython3",
   "version": "3.9.13"
  }
 },
 "nbformat": 4,
 "nbformat_minor": 5
}
