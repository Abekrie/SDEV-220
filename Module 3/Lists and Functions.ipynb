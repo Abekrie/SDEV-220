{
 "cells": [
  {
   "cell_type": "code",
   "execution_count": 1,
   "id": "5430fea4",
   "metadata": {},
   "outputs": [],
   "source": [
    "things = [\"mozzarella\", \"cinderella\", \"salmonella\"]"
   ]
  },
  {
   "cell_type": "code",
   "execution_count": 2,
   "id": "edda575c",
   "metadata": {},
   "outputs": [
    {
     "name": "stdout",
     "output_type": "stream",
     "text": [
      "['mozzarella', 'cinderella', 'salmonella']\n"
     ]
    }
   ],
   "source": [
    "print(things)"
   ]
  },
  {
   "cell_type": "code",
   "execution_count": 3,
   "id": "6589a723",
   "metadata": {},
   "outputs": [],
   "source": [
    "things = [\"mozzarella\", \"Cinderella\", \"salmonella\"]"
   ]
  },
  {
   "cell_type": "code",
   "execution_count": 4,
   "id": "7356e8f4",
   "metadata": {},
   "outputs": [
    {
     "name": "stdout",
     "output_type": "stream",
     "text": [
      "['mozzarella', 'Cinderella', 'salmonella']\n"
     ]
    }
   ],
   "source": [
    "print(things)"
   ]
  },
  {
   "cell_type": "code",
   "execution_count": 5,
   "id": "df0bce9b",
   "metadata": {},
   "outputs": [],
   "source": [
    "things = [\"MOZZARELLA\", \"Cinderella\", \"salmonella\"]"
   ]
  },
  {
   "cell_type": "code",
   "execution_count": 6,
   "id": "30d8f472",
   "metadata": {},
   "outputs": [
    {
     "name": "stdout",
     "output_type": "stream",
     "text": [
      "['MOZZARELLA', 'Cinderella', 'salmonella']\n"
     ]
    }
   ],
   "source": [
    "print(things)"
   ]
  },
  {
   "cell_type": "code",
   "execution_count": 7,
   "id": "b5938990",
   "metadata": {},
   "outputs": [],
   "source": [
    "things = [\"MOZZARELLA\", \"Cinderella\"]"
   ]
  },
  {
   "cell_type": "code",
   "execution_count": 8,
   "id": "5695d654",
   "metadata": {},
   "outputs": [
    {
     "name": "stdout",
     "output_type": "stream",
     "text": [
      "['MOZZARELLA', 'Cinderella']\n"
     ]
    }
   ],
   "source": [
    "print(things)"
   ]
  },
  {
   "cell_type": "code",
   "execution_count": null,
   "id": "93703bd8",
   "metadata": {},
   "outputs": [],
   "source": []
  },
  {
   "cell_type": "code",
   "execution_count": 9,
   "id": "ed6f4ff1",
   "metadata": {},
   "outputs": [],
   "source": [
    "def good(stu):\n",
    "    return stu"
   ]
  },
  {
   "cell_type": "code",
   "execution_count": 10,
   "id": "e18090e2",
   "metadata": {},
   "outputs": [],
   "source": [
    "students = [\"Harry\",\"Ron\",\"Hermione\"]"
   ]
  },
  {
   "cell_type": "code",
   "execution_count": 12,
   "id": "482cb770",
   "metadata": {},
   "outputs": [
    {
     "data": {
      "text/plain": [
       "['Harry', 'Ron', 'Hermione']"
      ]
     },
     "execution_count": 12,
     "metadata": {},
     "output_type": "execute_result"
    }
   ],
   "source": [
    "good(students)"
   ]
  },
  {
   "cell_type": "code",
   "execution_count": 13,
   "id": "cdd69973",
   "metadata": {},
   "outputs": [],
   "source": [
    "def get_odds(lst):\n",
    "    return list(filter(lambda num:num%2 != 0,lst))"
   ]
  },
  {
   "cell_type": "code",
   "execution_count": 15,
   "id": "532e134b",
   "metadata": {},
   "outputs": [
    {
     "data": {
      "text/plain": [
       "[1, 3, 5, 7, 9]"
      ]
     },
     "execution_count": 15,
     "metadata": {},
     "output_type": "execute_result"
    }
   ],
   "source": [
    "get_odds(range(10))"
   ]
  },
  {
   "cell_type": "code",
   "execution_count": null,
   "id": "86477c43",
   "metadata": {},
   "outputs": [],
   "source": []
  }
 ],
 "metadata": {
  "kernelspec": {
   "display_name": "Python 3 (ipykernel)",
   "language": "python",
   "name": "python3"
  },
  "language_info": {
   "codemirror_mode": {
    "name": "ipython",
    "version": 3
   },
   "file_extension": ".py",
   "mimetype": "text/x-python",
   "name": "python",
   "nbconvert_exporter": "python",
   "pygments_lexer": "ipython3",
   "version": "3.9.13"
  }
 },
 "nbformat": 4,
 "nbformat_minor": 5
}
